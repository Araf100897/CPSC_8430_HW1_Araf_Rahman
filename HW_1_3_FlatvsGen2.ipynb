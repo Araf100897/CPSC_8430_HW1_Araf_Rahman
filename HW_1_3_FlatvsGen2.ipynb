{
 "cells": [
  {
   "cell_type": "code",
   "execution_count": 1,
   "id": "ee4a613e-dd41-400b-a08f-c0ab7fc56f29",
   "metadata": {
    "tags": []
   },
   "outputs": [],
   "source": [
    "import torch\n",
    "import torch.nn as nn\n",
    "import torch.nn.functional as F\n",
    "import torchvision\n",
    "import torchvision.transforms as transforms\n",
    "import matplotlib.pyplot as plt\n",
    "import numpy as np\n",
    "from torch.nn.utils import parameters_to_vector, vector_to_parameters\n",
    "from torch.autograd import Variable\n",
    "import tqdm as notebook_tqdm"
   ]
  },
  {
   "cell_type": "code",
   "execution_count": 2,
   "id": "c1bad69c-f5a6-487c-8f52-10ceb0cc7d67",
   "metadata": {
    "tags": []
   },
   "outputs": [
    {
     "name": "stdout",
     "output_type": "stream",
     "text": [
      "MNIST_train_dataset size: 60000 \n",
      "MNIST_test_dataset size: 10000\n"
     ]
    }
   ],
   "source": [
    "MNIST_train_dataset = torchvision.datasets.MNIST(root='./data', \n",
    "                                           train=True, \n",
    "                                           transform=transforms.ToTensor(),  \n",
    "                                           download=False)\n",
    "\n",
    "MNIST_test_dataset = torchvision.datasets.MNIST(root='./data', \n",
    "                                          train=False, \n",
    "                                          transform=transforms.ToTensor())\n",
    "\n",
    "print(\"MNIST_train_dataset size:\", len(MNIST_train_dataset),\"\\nMNIST_test_dataset size:\", len(MNIST_test_dataset))"
   ]
  },
  {
   "cell_type": "code",
   "execution_count": 3,
   "id": "0795fc75-c190-46b8-a804-854becf27e35",
   "metadata": {
    "tags": []
   },
   "outputs": [],
   "source": [
    "def MNIST_train_loader(batch_size):\n",
    "    MNIST_train_loader = torch.utils.data.DataLoader(dataset=MNIST_train_dataset, \n",
    "                                           batch_size = batch_size, \n",
    "                                           shuffle=True)\n",
    "    return MNIST_train_loader\n",
    "\n",
    "\n",
    "def MNIST_test_loader(batch_size):\n",
    "    MNIST_test_loader = torch.utils.data.DataLoader(dataset=MNIST_test_dataset, \n",
    "                                          batch_size=batch_size, \n",
    "                                          shuffle=False)\n",
    "    return MNIST_test_loader"
   ]
  },
  {
   "cell_type": "code",
   "execution_count": 4,
   "id": "517567cf-6b73-4166-a781-e1c88f706b63",
   "metadata": {
    "tags": []
   },
   "outputs": [],
   "source": [
    "class M1(nn.Module):\n",
    "  def __init__(self,):\n",
    "        super(M1, self).__init__()\n",
    "        self.fc1 = nn.Linear(784, 500)\n",
    "        self.fc2 = nn.Linear(500, 10)\n",
    "        \n",
    "  def forward(self, x):\n",
    "        # flatten as one dimension\n",
    "        x = x.reshape(x.shape[0], -1)\n",
    "        x = F.relu(self.fc1(x))\n",
    "        x = self.fc2(x)\n",
    "        return x\n",
    "        "
   ]
  },
  {
   "cell_type": "code",
   "execution_count": 5,
   "id": "e652dcd8-fcd9-401a-a5d0-71cd5a8ae26a",
   "metadata": {
    "tags": []
   },
   "outputs": [
    {
     "data": {
      "text/plain": [
       "10"
      ]
     },
     "execution_count": 5,
     "metadata": {},
     "output_type": "execute_result"
    }
   ],
   "source": [
    "len(MNIST_train_loader(6000))"
   ]
  },
  {
   "cell_type": "code",
   "execution_count": 6,
   "id": "3a2f3047-f182-404e-b772-21b7c0aee290",
   "metadata": {
    "tags": []
   },
   "outputs": [],
   "source": [
    "def trainFunction(model,num_epochs,train_batch_size,status):\n",
    "    model.train()\n",
    "    print('Started')\n",
    "    train_load = MNIST_train_loader(train_batch_size)\n",
    "    n_total_steps = len(train_load)\n",
    "    train_losses = []\n",
    "    train_epoch = []\n",
    "    train_acc = []\n",
    "    not_converged =True\n",
    "    epoch = 0\n",
    "    trainAvgLossArr = []\n",
    "    trainAvgAccArr = []\n",
    "\n",
    "    while not_converged:\n",
    "        epoch += 1\n",
    "        n_correct = 0\n",
    "        n_samples = 0\n",
    "        lossSum =0\n",
    "        totalacc =0\n",
    "\n",
    "        for i, (images, labels) in enumerate(train_load):  \n",
    "            \n",
    "            images, labels = Variable(images),Variable(labels)\n",
    "\n",
    "            optimizer.zero_grad()\n",
    "\n",
    "            prediction = model(images)\n",
    "            loss = loss_func(prediction, labels)\n",
    "            lossSum += loss.detach().numpy()\n",
    "\n",
    "            loss.backward()\n",
    "            \n",
    "            optimizer.step()\n",
    "\n",
    "            _, predicted = torch.max(prediction.data, 1)\n",
    "            n_samples += labels.size(0)\n",
    "            n_correct += (predicted == labels).sum().item()\n",
    "            acc = 100.0 * n_correct / n_samples\n",
    "            totalacc += acc\n",
    "\n",
    "            train_losses.append(loss.item())\n",
    "            train_acc.append(acc)\n",
    "            train_epoch.append(epoch)\n",
    "\n",
    "            if (i+1) % status == 0:\n",
    "                print (f'Train O/P: Epoch [{epoch}/{num_epochs}], Step [{i+1}/{n_total_steps}], Loss: {loss.item():.4f}',end= '\\r',flush = True)\n",
    "   \n",
    "                if epoch == num_epochs:\n",
    "                        print(\"Max Epoch Reached\")\n",
    "                        not_converged = False\n",
    "                elif (epoch > 5) and  (train_losses[-1] < 0.001):\n",
    "                    if abs(train_losses[-3] - train_losses[-2]) < 1.0e-05 and abs(train_losses[-2] - train_losses[-1]) < 1.0e-05:\n",
    "                        print(\"Convergeance reached for loss:\",train_losses[-1])\n",
    "                        not_converged = False\n",
    "\n",
    "       \n",
    "        epochAcc = totalacc/(i+1)\n",
    "        trainAvgLossArr.append(lossSum/n_total_steps)    \n",
    "        trainAvgAccArr.append(epochAcc)\n",
    "\n",
    "    return train_epoch,train_losses,train_acc,trainAvgLossArr,trainAvgAccArr"
   ]
  },
  {
   "cell_type": "code",
   "execution_count": 7,
   "id": "307a0e31-fa42-4c8f-83ad-5564d3be4801",
   "metadata": {
    "tags": []
   },
   "outputs": [
    {
     "name": "stdout",
     "output_type": "stream",
     "text": [
      "Total no. of parameters in Model with batch_size=64 is:397510\n"
     ]
    }
   ],
   "source": [
    "torch.manual_seed(1)\n",
    "\n",
    "learning_rate = 0.0015\n",
    "mBatch1 = M1()\n",
    "loss_func = nn.CrossEntropyLoss()\n",
    "weight_decay_val = 1e-4\n",
    "\n",
    "optimizer = torch.optim.Adam(mBatch1.parameters(), lr=learning_rate, weight_decay = weight_decay_val)\n",
    "\n",
    "a=[]\n",
    "for i in mBatch1.parameters():\n",
    "    a.append(torch.numel(i))\n",
    "print(f'Total no. of parameters in Model with batch_size={64} is:{np.sum(a)}')"
   ]
  },
  {
   "cell_type": "code",
   "execution_count": 8,
   "id": "2f4572d8-4590-46de-b647-ae9cd8d3c877",
   "metadata": {
    "tags": []
   },
   "outputs": [
    {
     "name": "stdout",
     "output_type": "stream",
     "text": [
      "Started\n",
      "Max Epoch Reached[5/5], Step [500/938], Loss: 0.0577\n"
     ]
    }
   ],
   "source": [
    "max_epochs = 5\n",
    "train_batch_size = 64\n",
    "status = 500\n",
    "B1_train_epoch,B1_train_losses,B1_train_acc,B1trainAvgLossArr,B1trainAvgAccArr  = trainFunction(mBatch1,max_epochs,train_batch_size,status)"
   ]
  },
  {
   "cell_type": "code",
   "execution_count": 9,
   "id": "40138570-2e6c-417e-b1db-77f19f4fe20e",
   "metadata": {
    "tags": []
   },
   "outputs": [
    {
     "name": "stdout",
     "output_type": "stream",
     "text": [
      "Total no of parameters in Model with batch_size=1000 is:397510\n"
     ]
    }
   ],
   "source": [
    "torch.manual_seed(1)\n",
    "\n",
    "learning_rate = 0.0001\n",
    "mBatch2 = M1()\n",
    "loss_func = nn.CrossEntropyLoss()\n",
    "weight_decay_val = 1e-4\n",
    "optimizer = torch.optim.Adam(mBatch2.parameters(), lr=learning_rate, weight_decay=weight_decay_val) \n",
    "#optimizer = torch.optim.SGD(mBatch2.parameters(), lr=learning_rate)\n",
    "\n",
    "a=[]\n",
    "for i in mBatch2.parameters():\n",
    "    a.append(torch.numel(i))\n",
    "print(f'Total no of parameters in Model with batch_size={1000} is:{np.sum(a)}')"
   ]
  },
  {
   "cell_type": "code",
   "execution_count": 10,
   "id": "2fb71ee0-e5a9-4cf0-bf18-cbe8140d445e",
   "metadata": {
    "tags": []
   },
   "outputs": [
    {
     "name": "stdout",
     "output_type": "stream",
     "text": [
      "Started\n",
      "Max Epoch Reached[5/5], Step [10/60], Loss: 0.5009\n",
      "Max Epoch Reached[5/5], Step [20/60], Loss: 0.4638\n",
      "Max Epoch Reached[5/5], Step [30/60], Loss: 0.4239\n",
      "Max Epoch Reached[5/5], Step [40/60], Loss: 0.4387\n",
      "Max Epoch Reached[5/5], Step [50/60], Loss: 0.4361\n",
      "Max Epoch Reached[5/5], Step [60/60], Loss: 0.4106\n"
     ]
    }
   ],
   "source": [
    "max_epochs = 5\n",
    "train_batch_size = 1000\n",
    "status = 10\n",
    "B2_train_epoch,B2_train_losses,B2_train_acc,B2trainAvgLossArr,B2trainAvgAccArr = trainFunction(mBatch2,max_epochs,train_batch_size,status)"
   ]
  },
  {
   "cell_type": "code",
   "execution_count": 11,
   "id": "49ae51e9-0bcf-449e-b0f1-391e3e4dbcc4",
   "metadata": {
    "tags": []
   },
   "outputs": [],
   "source": [
    "epochArr = np.array(np.linspace(1,max_epochs,max_epochs))"
   ]
  },
  {
   "cell_type": "code",
   "execution_count": 12,
   "id": "60196126-386f-41f5-854c-2393cbb9de97",
   "metadata": {
    "tags": []
   },
   "outputs": [
    {
     "data": {
      "image/png": "[encoded data removed]",
      "text/plain": [
       "<Figure size 2000x800 with 1 Axes>"
      ]
     },
     "metadata": {},
     "output_type": "display_data"
    }
   ],
   "source": [
    "plt.figure(figsize=(20, 8))\n",
    "plt.plot(epochArr,B1trainAvgLossArr,color=\"blue\")\n",
    "plt.plot(epochArr,B2trainAvgLossArr,color=\"red\")\n",
    "plt.title('Batch1 & Bathc2 Loss VS Epoch')\n",
    "plt.legend(['Batch 1','Batch 2'])\n",
    "plt.xlabel ('Epoch')\n",
    "plt.ylabel ('loss')\n",
    "plt.show()"
   ]
  },
  {
   "cell_type": "code",
   "execution_count": 13,
   "id": "dd324f32-dc97-489e-95e5-993ac84e412d",
   "metadata": {
    "tags": []
   },
   "outputs": [
    {
     "name": "stdout",
     "output_type": "stream",
     "text": [
      "tensor([-1.8829e-38, -3.4748e-39,  1.8334e-37,  ..., -5.1062e-02,\n",
      "         1.1912e-01, -6.0722e-03], grad_fn=<CatBackward0>) \n",
      "len: 397510\n"
     ]
    }
   ],
   "source": [
    "batch1_param = torch.nn.utils.parameters_to_vector(mBatch1.parameters())\n",
    "print(batch1_param,'\\nlen:',len(batch1_param))"
   ]
  },
  {
   "cell_type": "code",
   "execution_count": 14,
   "id": "462f51cf-942a-4d74-82df-dad04cc58c17",
   "metadata": {
    "tags": []
   },
   "outputs": [
    {
     "name": "stdout",
     "output_type": "stream",
     "text": [
      "tensor([ 1.2313e-03, -5.0379e-04, -8.0190e-09,  ...,  5.2469e-02,\n",
      "        -6.5171e-02, -2.0972e-02], grad_fn=<CatBackward0>) \n",
      "len: 397510\n"
     ]
    }
   ],
   "source": [
    "batch2_param = torch.nn.utils.parameters_to_vector(mBatch2.parameters())\n",
    "print(batch2_param,'\\nlen:',len(batch2_param))"
   ]
  },
  {
   "cell_type": "code",
   "execution_count": 15,
   "id": "06a9b0ca-b7ae-41e4-9eed-ae50677d8883",
   "metadata": {
    "tags": []
   },
   "outputs": [
    {
     "name": "stdout",
     "output_type": "stream",
     "text": [
      "[-2.         -1.86666667 -1.73333333 -1.6        -1.46666667 -1.33333333\n",
      " -1.2        -1.06666667 -0.93333333 -0.8        -0.66666667 -0.53333333\n",
      " -0.4        -0.26666667 -0.13333333  0.          0.13333333  0.26666667\n",
      "  0.4         0.53333333  0.66666667  0.8         0.93333333  1.06666667\n",
      "  1.2         1.33333333  1.46666667  1.6         1.73333333  1.86666667\n",
      "  2.        ]\n"
     ]
    }
   ],
   "source": [
    "alpha = np.linspace(-2.0, 2.0, num=31)\n",
    "print(alpha)"
   ]
  },
  {
   "cell_type": "code",
   "execution_count": 16,
   "id": "2f47bbbb-e01a-400e-b865-bd920535e7c0",
   "metadata": {
    "tags": []
   },
   "outputs": [],
   "source": [
    "thetaArr =[]\n",
    "for i in range (len(alpha)):\n",
    "    theta = (1-alpha[i])*batch1_param + alpha[i]*batch2_param\n",
    "    thetaArr.append(theta)"
   ]
  },
  {
   "cell_type": "code",
   "execution_count": 17,
   "id": "84ad5934-1998-4dd8-b3c0-79650431194a",
   "metadata": {
    "tags": []
   },
   "outputs": [],
   "source": [
    "def testFunction(model,loss_func,testLoader,test_batch_size): \n",
    "    MNIST_test_loader = testLoader\n",
    "    test_load = MNIST_test_loader(test_batch_size)\n",
    "    model.eval()\n",
    "    with torch.no_grad():\n",
    "        n_correct = 0\n",
    "        n_samples = 0\n",
    "        testLoss = 0\n",
    "        count =0\n",
    "        for images, labels in test_load:\n",
    "            images, labels = Variable(images),Variable(labels)\n",
    "            \n",
    "            prediction = model(images)\n",
    "            testLoss += loss_func(prediction,labels).item()\n",
    "            # max returns (value ,index)\n",
    "            _, predicted = torch.max(prediction.data, 1)\n",
    "            n_samples += labels.size(0)\n",
    "            n_correct += (predicted == labels).sum().item()\n",
    "            count +=1\n",
    "\n",
    "    netTest_loss = testLoss/count\n",
    "    netTest_acc1 = 100.0 * n_correct / n_samples\n",
    "    print(f'Accuracy of the network on the test images: {netTest_acc1} & Test Loss: {netTest_loss} %', end=\"\\r\", flush= True)\n",
    "    return netTest_acc1, netTest_loss"
   ]
  },
  {
   "cell_type": "code",
   "execution_count": 18,
   "id": "e15aa26c-e843-4fb6-84a2-07738ba5e18d",
   "metadata": {
    "tags": []
   },
   "outputs": [],
   "source": [
    "import copy"
   ]
  },
  {
   "cell_type": "code",
   "execution_count": null,
   "id": "a2d21f88-8a62-4576-8133-695ee7ad350c",
   "metadata": {
    "tags": []
   },
   "outputs": [
    {
     "name": "stdout",
     "output_type": "stream",
     "text": [
      "Total no of parameters in Model Theta 0 is:397510\n",
      "<bound method Module.parameters of M1(\n",
      "  (fc1): Linear(in_features=784, out_features=500, bias=True)\n",
      "  (fc2): Linear(in_features=500, out_features=10, bias=True)\n",
      ")>\n",
      "Started\n",
      "Max Epoch Reached[1/1], Step [100/120], Loss: 0.0354\n",
      "Total no of parameters in Model Theta 1 is:397510 & Test Loss: 0.20809566435382293 %\n",
      "<bound method Module.parameters of M1(\n",
      "  (fc1): Linear(in_features=784, out_features=500, bias=True)\n",
      "  (fc2): Linear(in_features=500, out_features=10, bias=True)\n",
      ")>\n",
      "Started\n",
      "Max Epoch Reached[1/1], Step [100/120], Loss: 0.0668\n",
      "Total no of parameters in Model Theta 2 is:397510 & Test Loss: 0.1932235491271058 %\n",
      "<bound method Module.parameters of M1(\n",
      "  (fc1): Linear(in_features=784, out_features=500, bias=True)\n",
      "  (fc2): Linear(in_features=500, out_features=10, bias=True)\n",
      ")>\n",
      "Started\n",
      "Max Epoch Reached[1/1], Step [100/120], Loss: 0.1015\n",
      "Total no of parameters in Model Theta 3 is:397510 & Test Loss: 0.17515208631048154 %\n",
      "<bound method Module.parameters of M1(\n",
      "  (fc1): Linear(in_features=784, out_features=500, bias=True)\n",
      "  (fc2): Linear(in_features=500, out_features=10, bias=True)\n",
      ")>\n",
      "Started\n",
      "Max Epoch Reached[1/1], Step [100/120], Loss: 0.0553\n",
      "Total no of parameters in Model Theta 4 is:397510 & Test Loss: 0.15729810980628828 %\n",
      "<bound method Module.parameters of M1(\n",
      "  (fc1): Linear(in_features=784, out_features=500, bias=True)\n",
      "  (fc2): Linear(in_features=500, out_features=10, bias=True)\n",
      ")>\n",
      "Started\n",
      "Max Epoch Reached[1/1], Step [100/120], Loss: 0.0191\n",
      "Total no of parameters in Model Theta 5 is:397510 & Test Loss: 0.1423707674463003 %\n",
      "<bound method Module.parameters of M1(\n",
      "  (fc1): Linear(in_features=784, out_features=500, bias=True)\n",
      "  (fc2): Linear(in_features=500, out_features=10, bias=True)\n",
      ")>\n",
      "Started\n",
      "Max Epoch Reached[1/1], Step [100/120], Loss: 0.0103\n",
      "Total no of parameters in Model Theta 6 is:397510 & Test Loss: 0.12657959321113593 %\n",
      "<bound method Module.parameters of M1(\n",
      "  (fc1): Linear(in_features=784, out_features=500, bias=True)\n",
      "  (fc2): Linear(in_features=500, out_features=10, bias=True)\n",
      ")>\n",
      "Started\n",
      "Max Epoch Reached[1/1], Step [100/120], Loss: 0.0230\n",
      "Total no of parameters in Model Theta 7 is:397510 & Test Loss: 0.11617966366356995 %\n",
      "<bound method Module.parameters of M1(\n",
      "  (fc1): Linear(in_features=784, out_features=500, bias=True)\n",
      "  (fc2): Linear(in_features=500, out_features=10, bias=True)\n",
      ")>\n",
      "Started\n",
      "Max Epoch Reached[1/1], Step [100/120], Loss: 0.0210\n",
      "Total no of parameters in Model Theta 8 is:397510 & Test Loss: 0.10627630451490404 %\n",
      "<bound method Module.parameters of M1(\n",
      "  (fc1): Linear(in_features=784, out_features=500, bias=True)\n",
      "  (fc2): Linear(in_features=500, out_features=10, bias=True)\n",
      ")>\n",
      "Started\n",
      "Max Epoch Reached[1/1], Step [100/120], Loss: 0.0276\n",
      "Total no of parameters in Model Theta 9 is:397510 & Test Loss: 0.0953832882019924 %\n",
      "<bound method Module.parameters of M1(\n",
      "  (fc1): Linear(in_features=784, out_features=500, bias=True)\n",
      "  (fc2): Linear(in_features=500, out_features=10, bias=True)\n",
      ")>\n",
      "Started\n",
      "Max Epoch Reached[1/1], Step [100/120], Loss: 0.0219\n",
      "Total no of parameters in Model Theta 10 is:397510& Test Loss: 0.08446681294590234 %\n",
      "<bound method Module.parameters of M1(\n",
      "  (fc1): Linear(in_features=784, out_features=500, bias=True)\n",
      "  (fc2): Linear(in_features=500, out_features=10, bias=True)\n",
      ")>\n",
      "Started\n",
      "Max Epoch Reached[1/1], Step [100/120], Loss: 0.0125\n",
      "Total no of parameters in Model Theta 11 is:397510& Test Loss: 0.07550683422014118 %\n",
      "<bound method Module.parameters of M1(\n",
      "  (fc1): Linear(in_features=784, out_features=500, bias=True)\n",
      "  (fc2): Linear(in_features=500, out_features=10, bias=True)\n",
      ")>\n",
      "Started\n",
      "Max Epoch Reached[1/1], Step [100/120], Loss: 0.0055\n",
      "Total no of parameters in Model Theta 12 is:397510 Test Loss: 0.0677653444756288 %\n",
      "<bound method Module.parameters of M1(\n",
      "  (fc1): Linear(in_features=784, out_features=500, bias=True)\n",
      "  (fc2): Linear(in_features=500, out_features=10, bias=True)\n",
      ")>\n",
      "Started\n",
      "Max Epoch Reached[1/1], Step [100/120], Loss: 0.0134\n",
      "Total no of parameters in Model Theta 13 is:397510& Test Loss: 0.06112324199639261 %\n",
      "<bound method Module.parameters of M1(\n",
      "  (fc1): Linear(in_features=784, out_features=500, bias=True)\n",
      "  (fc2): Linear(in_features=500, out_features=10, bias=True)\n",
      ")>\n",
      "Started\n",
      "Max Epoch Reached[1/1], Step [100/120], Loss: 0.0131\n",
      "Total no of parameters in Model Theta 14 is:397510& Test Loss: 0.05642635215772316 %\n",
      "<bound method Module.parameters of M1(\n",
      "  (fc1): Linear(in_features=784, out_features=500, bias=True)\n",
      "  (fc2): Linear(in_features=500, out_features=10, bias=True)\n",
      ")>\n",
      "Started\n",
      "Max Epoch Reached[1/1], Step [100/120], Loss: 0.0230\n",
      "Total no of parameters in Model Theta 15 is:397510& Test Loss: 0.05281007383018732 %\n",
      "<bound method Module.parameters of M1(\n",
      "  (fc1): Linear(in_features=784, out_features=500, bias=True)\n",
      "  (fc2): Linear(in_features=500, out_features=10, bias=True)\n",
      ")>\n",
      "Started\n",
      "Max Epoch Reached[1/1], Step [100/120], Loss: 0.0317\n",
      "Total no of parameters in Model Theta 16 is:397510& Test Loss: 0.05252907946705818 %\n",
      "<bound method Module.parameters of M1(\n",
      "  (fc1): Linear(in_features=784, out_features=500, bias=True)\n",
      "  (fc2): Linear(in_features=500, out_features=10, bias=True)\n",
      ")>\n",
      "Started\n",
      "Max Epoch Reached[1/1], Step [100/120], Loss: 0.0293\n",
      "Total no of parameters in Model Theta 17 is:397510& Test Loss: 0.054107321379706266 %\n",
      "<bound method Module.parameters of M1(\n",
      "  (fc1): Linear(in_features=784, out_features=500, bias=True)\n",
      "  (fc2): Linear(in_features=500, out_features=10, bias=True)\n",
      ")>\n",
      "Started\n",
      "Max Epoch Reached[1/1], Step [100/120], Loss: 0.0397\n",
      "Total no of parameters in Model Theta 18 is:397510& Test Loss: 0.05933931092731655 %\n",
      "<bound method Module.parameters of M1(\n",
      "  (fc1): Linear(in_features=784, out_features=500, bias=True)\n",
      "  (fc2): Linear(in_features=500, out_features=10, bias=True)\n",
      ")>\n",
      "Started\n",
      "Max Epoch Reached[1/1], Step [100/120], Loss: 0.0406\n",
      "Total no of parameters in Model Theta 19 is:397510& Test Loss: 0.07060620184056461 %\n",
      "<bound method Module.parameters of M1(\n",
      "  (fc1): Linear(in_features=784, out_features=500, bias=True)\n",
      "  (fc2): Linear(in_features=500, out_features=10, bias=True)\n",
      ")>\n",
      "Started\n",
      "Max Epoch Reached[1/1], Step [100/120], Loss: 0.0740\n",
      "Total no of parameters in Model Theta 20 is:397510& Test Loss: 0.08927063774317504 %\n",
      "<bound method Module.parameters of M1(\n",
      "  (fc1): Linear(in_features=784, out_features=500, bias=True)\n",
      "  (fc2): Linear(in_features=500, out_features=10, bias=True)\n",
      ")>\n",
      "Started\n",
      "Max Epoch Reached[1/1], Step [100/120], Loss: 0.1321\n",
      "Total no of parameters in Model Theta 21 is:397510& Test Loss: 0.11612849738448858 %\n",
      "<bound method Module.parameters of M1(\n",
      "  (fc1): Linear(in_features=784, out_features=500, bias=True)\n",
      "  (fc2): Linear(in_features=500, out_features=10, bias=True)\n",
      ")>\n",
      "Started\n",
      "Max Epoch Reached[1/1], Step [100/120], Loss: 0.2014\n",
      "Total no of parameters in Model Theta 22 is:397510& Test Loss: 0.16493782782927155 %\n",
      "<bound method Module.parameters of M1(\n",
      "  (fc1): Linear(in_features=784, out_features=500, bias=True)\n",
      "  (fc2): Linear(in_features=500, out_features=10, bias=True)\n",
      ")>\n",
      "Started\n",
      "Max Epoch Reached[1/1], Step [100/120], Loss: 0.2331\n",
      "Total no of parameters in Model Theta 23 is:397510& Test Loss: 0.2341991314664483 %\n",
      "<bound method Module.parameters of M1(\n",
      "  (fc1): Linear(in_features=784, out_features=500, bias=True)\n",
      "  (fc2): Linear(in_features=500, out_features=10, bias=True)\n",
      ")>\n",
      "Started\n",
      "Max Epoch Reached[1/1], Step [100/120], Loss: 0.3160\n",
      "Total no of parameters in Model Theta 24 is:397510 Test Loss: 0.2791512480005622 %\n",
      "<bound method Module.parameters of M1(\n",
      "  (fc1): Linear(in_features=784, out_features=500, bias=True)\n",
      "  (fc2): Linear(in_features=500, out_features=10, bias=True)\n",
      ")>\n",
      "Started\n",
      "Max Epoch Reached[1/1], Step [100/120], Loss: 0.2599\n",
      "Total no of parameters in Model Theta 25 is:397510& Test Loss: 0.29276556745171545 %\n",
      "<bound method Module.parameters of M1(\n",
      "  (fc1): Linear(in_features=784, out_features=500, bias=True)\n",
      "  (fc2): Linear(in_features=500, out_features=10, bias=True)\n",
      ")>\n",
      "Started\n",
      "Max Epoch Reached[1/1], Step [100/120], Loss: 0.3813\n",
      "Total no of parameters in Model Theta 26 is:397510& Test Loss: 0.3182318191975355 %\n",
      "<bound method Module.parameters of M1(\n",
      "  (fc1): Linear(in_features=784, out_features=500, bias=True)\n",
      "  (fc2): Linear(in_features=500, out_features=10, bias=True)\n",
      ")>\n",
      "Started\n"
     ]
    }
   ],
   "source": [
    "modelsTrainEpochArr = []\n",
    "modelsTrainLossArr = []\n",
    "modelsTrainAccArr = []\n",
    "modelsTestLossArr = []\n",
    "modelsTestAccArr = []\n",
    "\n",
    "for i in range (len(thetaArr)):\n",
    "    #torch.manual_seed(1)\n",
    "    \n",
    "    j=copy.deepcopy(i) \n",
    "    theta = (1-alpha[i])*batch1_param + alpha[i]*batch2_param\n",
    "    j = M1()\n",
    "    torch.nn.utils.vector_to_parameters(theta,j.parameters())\n",
    "    loss_func = nn.CrossEntropyLoss()\n",
    "    optimizer = torch.optim.Adam(j.parameters(), lr=0.0004, weight_decay = 1e-4)\n",
    "    \n",
    "\n",
    "    a=[]\n",
    "    for k in j.parameters():\n",
    "        a.append(torch.numel(k))\n",
    "    print(f'Total no of parameters in Model Theta {i} is:{np.sum(a)}')\n",
    "\n",
    "    print(j.parameters)\n",
    "\n",
    "    max_epochs = 1\n",
    "    train_batch_size = 500\n",
    "    status = 100\n",
    "    T_train_epoch,T_train_losses,T_train_acc,T_trainAvgLossArr,T_trainAvgAccArr = trainFunction(j,max_epochs,train_batch_size,status)\n",
    "    \n",
    "    \n",
    "    \n",
    "    modelsTrainLossArr.append(T_trainAvgLossArr)\n",
    "    modelsTrainAccArr.append(T_trainAvgAccArr)\n",
    "    \n",
    "    test_batch_size=500\n",
    "    T_acc, T_testLoss = testFunction(j,loss_func,MNIST_test_loader,test_batch_size)\n",
    "    modelsTestAccArr.append(T_acc)\n",
    "    modelsTestLossArr.append(T_testLoss)"
   ]
  },
  {
   "cell_type": "code",
   "execution_count": null,
   "id": "0bf153a3-d6c5-4492-8448-92e5dd7afd47",
   "metadata": {
    "tags": []
   },
   "outputs": [],
   "source": [
    "fig,ax=plt.subplots()\n",
    "ax.plot(alpha,(modelsTrainLossArr),color=\"Blue\",linestyle='dashed', marker=\"o\")\n",
    "ax.plot(alpha,modelsTestLossArr,color=\"Blue\", marker=\"v\")\n",
    "ax.legend(['Train Loss','Test Loss'],loc=\"center left\")\n",
    "ax.set_xlabel(\"Alpha\",color=\"Green\")\n",
    "ax.set_ylabel(\"CrossEntropy Loss\",color = \"blue\")\n",
    "\n",
    "\n",
    "ax2=ax.twinx()\n",
    "ax2.plot(alpha,(modelsTrainAccArr),color=\"red\",linestyle='dashed', marker=\"o\")\n",
    "ax2.plot(alpha,modelsTestAccArr,color=\"red\", marker=\"v\")\n",
    "ax2.set_xlabel(\"Alpha\",color=\"Green\")\n",
    "ax2.set_ylabel(\"Accuracy\",color = \"red\")\n",
    "ax2.legend(['Train Acc','Test Acc'],loc=\"upper right\")\n",
    "\n",
    "plt.show()"
   ]
  },
  {
   "cell_type": "code",
   "execution_count": null,
   "id": "99e8ecef-9f47-4550-8e24-390be8dc9c54",
   "metadata": {
    "tags": []
   },
   "outputs": [],
   "source": [
    "torch.manual_seed(1)\n",
    "\n",
    "learning_rate = 1e-3\n",
    "mLr1 = M1()\n",
    "loss_func = nn.CrossEntropyLoss()\n",
    "optimizer = torch.optim.Adam(mLr1.parameters(), lr=learning_rate) \n",
    "\n",
    "a=[]\n",
    "for i in mLr1.parameters():\n",
    "    a.append(torch.numel(i))\n",
    "print(f'Total no of parameters in Model with Lr={learning_rate} is:{np.sum(a)}')"
   ]
  },
  {
   "cell_type": "code",
   "execution_count": null,
   "id": "133ec1c2-597d-4e1d-a9fb-26cd2d658a06",
   "metadata": {
    "tags": []
   },
   "outputs": [],
   "source": [
    "max_epochs = 5\n",
    "train_batch_size = 64\n",
    "status = 10\n",
    "L1_train_epoch,L1_train_losses,L1_train_acc,L1_trainAvgLossArr,L1_trainAvgAccArr  = trainFunction(mLr1,max_epochs,train_batch_size,status)"
   ]
  },
  {
   "cell_type": "code",
   "execution_count": null,
   "id": "ef282440-8946-4fa0-8abe-c6071895010d",
   "metadata": {
    "tags": []
   },
   "outputs": [],
   "source": [
    "Lr1_param = torch.nn.utils.parameters_to_vector(mLr1.parameters())\n",
    "print(Lr1_param,'\\nlen:',len(Lr1_param))"
   ]
  },
  {
   "cell_type": "code",
   "execution_count": null,
   "id": "2da9feec-4a49-4113-a6e3-9cf55b6a77f7",
   "metadata": {
    "tags": []
   },
   "outputs": [],
   "source": [
    "torch.manual_seed(1)\n",
    "learning_rate = 1e-2\n",
    "mLr2 = M1()\n",
    "loss_func = nn.CrossEntropyLoss()\n",
    "optimizer = torch.optim.Adam(mLr2.parameters(), lr=learning_rate) \n",
    "\n",
    "a=[]\n",
    "for i in mLr2.parameters():\n",
    "    a.append(torch.numel(i))\n",
    "print(f'Total no of parameters in Model with Lr={learning_rate} is:{np.sum(a)}')"
   ]
  },
  {
   "cell_type": "code",
   "execution_count": null,
   "id": "44c9d6e2-fd38-4299-b987-21b1907fce01",
   "metadata": {
    "tags": []
   },
   "outputs": [],
   "source": [
    "max_epochs = 5\n",
    "train_batch_size = 64\n",
    "status = 10\n",
    "L2_train_epoch,L2_train_losses,L2_train_acc,L2_trainAvgLossArr,L2_trainAvgAccArr  = trainFunction(mLr2,max_epochs,train_batch_size,status)"
   ]
  },
  {
   "cell_type": "code",
   "execution_count": null,
   "id": "f8a0b467-82ae-4014-8c98-9aaa0c46ad89",
   "metadata": {
    "tags": []
   },
   "outputs": [],
   "source": [
    "epochArr = np.array(np.linspace(1,max_epochs,max_epochs))"
   ]
  },
  {
   "cell_type": "code",
   "execution_count": null,
   "id": "62e405f3-aa5a-4d30-9f23-4855f5350f2b",
   "metadata": {
    "tags": []
   },
   "outputs": [],
   "source": [
    "plt.figure(figsize=(20, 8))\n",
    "plt.plot(epochArr,L1_trainAvgLossArr,color=\"blue\")\n",
    "plt.plot(epochArr,L2_trainAvgLossArr,color=\"orange\")\n",
    "plt.title('Lr1 & Lr2 Loss VS Epoch',color=\"green\")\n",
    "plt.legend(['LR1:1e-3 1','LR2:1e-2'])\n",
    "plt.xlabel ('Epoch')\n",
    "plt.ylabel ('loss')\n",
    "plt.show()"
   ]
  },
  {
   "cell_type": "code",
   "execution_count": null,
   "id": "91058068-58c8-4e4d-89fe-6cfdf353a22b",
   "metadata": {
    "tags": []
   },
   "outputs": [],
   "source": [
    "Lr2_param = torch.nn.utils.parameters_to_vector(mLr2.parameters())\n",
    "print(Lr2_param,'\\nlen:',len(Lr2_param))"
   ]
  },
  {
   "cell_type": "code",
   "execution_count": null,
   "id": "13cc83c3-f4bb-415d-87c3-05f1781fc0fa",
   "metadata": {
    "tags": []
   },
   "outputs": [],
   "source": [
    "modelsTrainEpochArr2 = []\n",
    "modelsTrainLossArr2 = []\n",
    "modelsTrainAccArr2 = []\n",
    "modelsTestLossArr2 = []\n",
    "modelsTestAccArr2 = []\n",
    "\n",
    "for i in range (len(thetaArr)):\n",
    "    torch.manual_seed(1)\n",
    "    j=copy.deepcopy(i) \n",
    "    theta = (1-alpha[i])*Lr1_param + alpha[i]*Lr2_param\n",
    "    j = M1()\n",
    "    torch.nn.utils.vector_to_parameters(theta,j.parameters())\n",
    "    loss_func = nn.CrossEntropyLoss()\n",
    "    optimizer = torch.optim.Adam(j.parameters(), lr=1e-3) #,weight_decay = 0.025)\n",
    "\n",
    "    a=[]\n",
    "    for k in j.parameters():\n",
    "        a.append(torch.numel(k))\n",
    "    print(f'Total no of parameters in Model Theta {i} is:{np.sum(a)}')\n",
    "\n",
    "    print(j.parameters)\n",
    "\n",
    "    max_epochs = 1\n",
    "    train_batch_size = 1000\n",
    "    status = 60\n",
    "    T2_train_epoch,T2_train_losses,T2_train_acc,T2_trainAvgLossArr,T2_trainAvgAccArr = trainFunction(j,max_epochs,train_batch_size,status) #trainFunction(mBatch1,max_epochs,train_batch_size)\n",
    "    \n",
    "    \n",
    "    #modelsTrainEpochArr2.append(T2_trainAvgLossArr)\n",
    "    modelsTrainLossArr2.append(T2_trainAvgLossArr)\n",
    "    modelsTrainAccArr2.append(T2_trainAvgAccArr)\n",
    "    \n",
    "    test_batch_size=1000\n",
    "    T2_acc,T2_testLoss = testFunction(j,loss_func,MNIST_test_loader,test_batch_size)\n",
    "    modelsTestAccArr2.append(T2_acc)\n",
    "    modelsTestLossArr2.append(T2_testLoss)"
   ]
  },
  {
   "cell_type": "code",
   "execution_count": null,
   "id": "202f2116-c57c-47df-814e-1fb8848265e4",
   "metadata": {
    "tags": []
   },
   "outputs": [],
   "source": [
    "fig,ax=plt.subplots()\n",
    "ax.plot(alpha,(modelsTrainLossArr2),color=\"Blue\",linestyle='dashed', marker=\"o\")\n",
    "ax.plot(alpha,modelsTestLossArr2,color=\"Blue\", marker=\"v\")\n",
    "ax.legend(['Train Loss','Test Loss'],loc=\"center left\")\n",
    "ax.set_xlabel(\"Alpha\",color=\"Green\")\n",
    "ax.set_ylabel(\"CrossEntropy Loss\",color = \"blue\")\n",
    "ax.set_title(\"learning rate 1e-3 vs. 1e-2\",color = \"green\")\n",
    "\n",
    "\n",
    "ax2=ax.twinx()\n",
    "ax2.plot(alpha,(modelsTrainAccArr2),color=\"red\",linestyle='dashed', marker=\"o\")\n",
    "ax2.plot(alpha,modelsTestAccArr2,color=\"red\", marker=\"v\")\n",
    "ax2.set_xlabel(\"Alpha\",color=\"Green\")\n",
    "ax2.set_ylabel(\"Accuracy\",color = \"red\")\n",
    "ax2.legend(['Train Acc','Test Acc'],loc=\"upper right\")\n",
    "\n",
    "plt.show()\n"
   ]
  },
  {
   "cell_type": "code",
   "execution_count": null,
   "id": "e59a68b4-770e-4d4f-b383-051a17403c35",
   "metadata": {},
   "outputs": [],
   "source": []
  }
 ],
 "metadata": {
  "kernelspec": {
   "display_name": "deepL",
   "language": "python",
   "name": "deepl"
  },
  "language_info": {
   "codemirror_mode": {
    "name": "ipython",
    "version": 3
   },
   "file_extension": ".py",
   "mimetype": "text/x-python",
   "name": "python",
   "nbconvert_exporter": "python",
   "pygments_lexer": "ipython3",
   "version": "3.12.4"
  }
 },
 "nbformat": 4,
 "nbformat_minor": 5
}
